{
  "nbformat": 4,
  "nbformat_minor": 0,
  "metadata": {
    "colab": {
      "provenance": [],
      "authorship_tag": "ABX9TyPKbKp2UnFdQKnKDkjNb/9J",
      "include_colab_link": true
    },
    "kernelspec": {
      "name": "python3",
      "display_name": "Python 3"
    },
    "language_info": {
      "name": "python"
    }
  },
  "cells": [
    {
      "cell_type": "markdown",
      "metadata": {
        "id": "view-in-github",
        "colab_type": "text"
      },
      "source": [
        "<a href=\"https://colab.research.google.com/github/nagaratnakar/k-hub-tasks/blob/main/K_Hub_week1_task.ipynb\" target=\"_parent\"><img src=\"https://colab.research.google.com/assets/colab-badge.svg\" alt=\"Open In Colab\"/></a>"
      ]
    },
    {
      "cell_type": "markdown",
      "source": [],
      "metadata": {
        "id": "cP5Sg_qEIQE8"
      }
    },
    {
      "cell_type": "markdown",
      "source": [
        "tuple"
      ],
      "metadata": {
        "id": "Sr0mUoY0YFDr"
      }
    },
    {
      "cell_type": "code",
      "source": [
        "x=(\"naga\",\"mani\",\"sahitha\",\"roja\")\n",
        "print(type(x))"
      ],
      "metadata": {
        "id": "hG8LJGYaYHrY",
        "outputId": "d806f6dd-eb61-4aaa-c72f-f369fe0e59aa",
        "colab": {
          "base_uri": "https://localhost:8080/"
        }
      },
      "execution_count": null,
      "outputs": [
        {
          "output_type": "stream",
          "name": "stdout",
          "text": [
            "<class 'tuple'>\n"
          ]
        }
      ]
    },
    {
      "cell_type": "markdown",
      "source": [
        "access tuple"
      ],
      "metadata": {
        "id": "fL8KbcByYgvu"
      }
    },
    {
      "cell_type": "code",
      "source": [
        "x=(\"naga\",\"mani\",\"sahitha\",\"roja\",\"akhil\")\n",
        "print(x[2])\n",
        "print(x[-5:-2])\n",
        "print(x[2:5])\n",
        "print(x[2:])\n",
        "print(x[:5])\n",
        "if \"naga\"in x:\n",
        "  print(\"yes\")"
      ],
      "metadata": {
        "id": "cY8O23RIYjPZ",
        "outputId": "6fbbb03f-bda5-47f0-926f-9d0aa091937c",
        "colab": {
          "base_uri": "https://localhost:8080/"
        }
      },
      "execution_count": null,
      "outputs": [
        {
          "output_type": "stream",
          "name": "stdout",
          "text": [
            "sahitha\n",
            "('naga', 'mani', 'sahitha')\n",
            "('sahitha', 'roja', 'akhil')\n",
            "('sahitha', 'roja', 'akhil')\n",
            "('naga', 'mani', 'sahitha', 'roja', 'akhil')\n",
            "yes\n"
          ]
        }
      ]
    },
    {
      "cell_type": "markdown",
      "source": [
        "update tuple"
      ],
      "metadata": {
        "id": "LMSnpCUpebKL"
      }
    },
    {
      "cell_type": "code",
      "source": [
        "x=(\"naga\",\"roja\",\"akhil\")\n",
        "y=list(x)\n",
        "y[2]=\"mani\"\n",
        "x=tuple(y)\n",
        "print(x)"
      ],
      "metadata": {
        "id": "4LO6dWGNeeJa",
        "outputId": "c9165069-91fc-4fee-b1ea-16bd8720d756",
        "colab": {
          "base_uri": "https://localhost:8080/"
        }
      },
      "execution_count": null,
      "outputs": [
        {
          "output_type": "stream",
          "name": "stdout",
          "text": [
            "('naga', 'roja', 'mani')\n"
          ]
        }
      ]
    },
    {
      "cell_type": "code",
      "source": [
        "x=(\"naga\",\"roja\",\"akhil\")\n",
        "y=list(x)\n",
        "y.append(\"mani\")\n",
        "x=tuple(y)\n",
        "print(x)"
      ],
      "metadata": {
        "id": "kWpXdCiNfiTj",
        "outputId": "81dc74e7-a6f6-484e-fd30-d222f9f2d67f",
        "colab": {
          "base_uri": "https://localhost:8080/"
        }
      },
      "execution_count": null,
      "outputs": [
        {
          "output_type": "stream",
          "name": "stdout",
          "text": [
            "('naga', 'roja', 'akhil', 'mani')\n"
          ]
        }
      ]
    },
    {
      "cell_type": "code",
      "source": [
        "x=(\"naga\",\"roja\",\"akhil\")\n",
        "y=(\"mani\",)\n",
        "x+=y\n",
        "\n",
        "print(x)"
      ],
      "metadata": {
        "id": "_RhrQt4df7Mc",
        "outputId": "dc018b3b-51c9-41c6-c74b-e0011769b4bc",
        "colab": {
          "base_uri": "https://localhost:8080/"
        }
      },
      "execution_count": null,
      "outputs": [
        {
          "output_type": "stream",
          "name": "stdout",
          "text": [
            "('naga', 'roja', 'akhil', 'mani')\n"
          ]
        }
      ]
    },
    {
      "cell_type": "code",
      "source": [
        "x=('naga', 'roja', 'akhil', 'mani')\n",
        "y=list(x)\n",
        "y.remove(\"naga\")\n",
        "x=tuple(y)\n",
        "print(x)"
      ],
      "metadata": {
        "id": "IfY4iBEQiSYE",
        "outputId": "54344c45-cf26-4714-e437-f23afceb5b07",
        "colab": {
          "base_uri": "https://localhost:8080/"
        }
      },
      "execution_count": null,
      "outputs": [
        {
          "output_type": "stream",
          "name": "stdout",
          "text": [
            "('roja', 'akhil', 'mani')\n"
          ]
        }
      ]
    },
    {
      "cell_type": "code",
      "source": [
        "x=('naga', 'roja', 'akhil', 'mani')\n",
        "x=()\n",
        "print(x)"
      ],
      "metadata": {
        "id": "m_RrLFQHjQ9_",
        "outputId": "3110323e-3adc-480e-e4a9-b1aea96f8915",
        "colab": {
          "base_uri": "https://localhost:8080/"
        }
      },
      "execution_count": null,
      "outputs": [
        {
          "output_type": "stream",
          "name": "stdout",
          "text": [
            "()\n"
          ]
        }
      ]
    },
    {
      "cell_type": "markdown",
      "source": [
        "Unpack tuple"
      ],
      "metadata": {
        "id": "FnaUZtXL7Dw5"
      }
    },
    {
      "cell_type": "code",
      "source": [
        "x=(\"naga\",\"mani\",\"akhil\",\"roja\",\"sahitha\")\n",
        "(cricket,kabaddi,*freefire)=x\n",
        "print(cricket)\n",
        "print(kabaddi)\n",
        "print(freefire)"
      ],
      "metadata": {
        "id": "e1U77uBDkPqG",
        "outputId": "ebe3fcf9-c2dd-48c9-d36b-a5c48be71715",
        "colab": {
          "base_uri": "https://localhost:8080/"
        }
      },
      "execution_count": null,
      "outputs": [
        {
          "output_type": "stream",
          "name": "stdout",
          "text": [
            "naga\n",
            "mani\n",
            "['akhil', 'roja', 'sahitha']\n"
          ]
        }
      ]
    },
    {
      "cell_type": "code",
      "source": [
        "x=(\"naga\",\"mani\",\"akhil\",\"roja\",\"sahitha\")\n",
        "(cricket,*kabaddi,freefire)=x\n",
        "print(cricket)\n",
        "print(kabaddi)\n",
        "print(freefire)"
      ],
      "metadata": {
        "id": "TQ5JL-5P7shB",
        "outputId": "22d0ca0b-4a86-4814-d16a-a75d4c6c28db",
        "colab": {
          "base_uri": "https://localhost:8080/"
        }
      },
      "execution_count": null,
      "outputs": [
        {
          "output_type": "stream",
          "name": "stdout",
          "text": [
            "naga\n",
            "['mani', 'akhil', 'roja']\n",
            "sahitha\n"
          ]
        }
      ]
    },
    {
      "cell_type": "markdown",
      "source": [
        "Loops"
      ],
      "metadata": {
        "id": "hICtTXiO70ah"
      }
    },
    {
      "cell_type": "code",
      "source": [
        "x=(\"naga\",\"mani\",\"akhil\",\"roja\",\"sahitha\")\n",
        "for i in range(len(x)):\n",
        "  print(x[i])"
      ],
      "metadata": {
        "id": "U_3BsK5772hb",
        "outputId": "c369e607-92fd-4feb-fe8c-b06863af3c30",
        "colab": {
          "base_uri": "https://localhost:8080/"
        }
      },
      "execution_count": null,
      "outputs": [
        {
          "output_type": "stream",
          "name": "stdout",
          "text": [
            "naga\n",
            "mani\n",
            "akhil\n",
            "roja\n",
            "sahitha\n"
          ]
        }
      ]
    },
    {
      "cell_type": "code",
      "source": [
        "x=(\"naga\",\"mani\",\"akhil\",\"roja\",\"sahitha\")\n",
        "i=0\n",
        "while i <len(x):\n",
        "  print(x[i])\n",
        "  i=i+1"
      ],
      "metadata": {
        "id": "Wd6PSV_T9Ybi",
        "outputId": "1973aa94-39f3-4247-ce8c-e1b8e2fbc91e",
        "colab": {
          "base_uri": "https://localhost:8080/"
        }
      },
      "execution_count": null,
      "outputs": [
        {
          "output_type": "stream",
          "name": "stdout",
          "text": [
            "naga\n",
            "mani\n",
            "akhil\n",
            "roja\n",
            "sahitha\n"
          ]
        }
      ]
    },
    {
      "cell_type": "markdown",
      "source": [
        "Join tuple"
      ],
      "metadata": {
        "id": "XJC-QVJL-lD1"
      }
    },
    {
      "cell_type": "code",
      "source": [
        "x=(\"naga\",\"akhil\",\"mani\")\n",
        "y=(1,2,3,4,5)\n",
        "z=x+y\n",
        "print(z)"
      ],
      "metadata": {
        "id": "3zvE6w1H-gzd",
        "outputId": "714edc1c-e059-46ce-8c4f-0a8b7169a53c",
        "colab": {
          "base_uri": "https://localhost:8080/"
        }
      },
      "execution_count": null,
      "outputs": [
        {
          "output_type": "stream",
          "name": "stdout",
          "text": [
            "('naga', 'akhil', 'mani', 1, 2, 3, 4, 5)\n"
          ]
        }
      ]
    },
    {
      "cell_type": "code",
      "source": [
        "x=(\"naga\",\"akhil\",\"mani\")\n",
        "y=x*2\n",
        "print(y)\n"
      ],
      "metadata": {
        "id": "eK8r_Aaj_BW_",
        "outputId": "7506668c-9395-4bea-97d8-141c2cc65641",
        "colab": {
          "base_uri": "https://localhost:8080/"
        }
      },
      "execution_count": null,
      "outputs": [
        {
          "output_type": "stream",
          "name": "stdout",
          "text": [
            "('naga', 'akhil', 'mani', 'naga', 'akhil', 'mani')\n"
          ]
        }
      ]
    },
    {
      "cell_type": "code",
      "source": [
        "fruits = ('apple', 'banana', 'apple', 'cherry', 'banana', 'apple')\n",
        "t= fruits.count('apple')\n",
        "print(t)"
      ],
      "metadata": {
        "id": "AvXI0W_H_9m6",
        "outputId": "6fb03651-193f-411d-ef28-aca105e90ae7",
        "colab": {
          "base_uri": "https://localhost:8080/"
        }
      },
      "execution_count": null,
      "outputs": [
        {
          "output_type": "stream",
          "name": "stdout",
          "text": [
            "3\n"
          ]
        }
      ]
    },
    {
      "cell_type": "code",
      "source": [
        "fruits = ('apple', 'banana', 'apple', 'cherry', 'banana', 'apple')\n",
        "t= fruits.index('cherry')\n",
        "print(t)"
      ],
      "metadata": {
        "id": "HE5XaAomAhEZ",
        "outputId": "67cda403-30c7-4313-902e-bc2d2268214a",
        "colab": {
          "base_uri": "https://localhost:8080/"
        }
      },
      "execution_count": null,
      "outputs": [
        {
          "output_type": "stream",
          "name": "stdout",
          "text": [
            "3\n"
          ]
        }
      ]
    },
    {
      "cell_type": "markdown",
      "source": [
        "**SETS**"
      ],
      "metadata": {
        "id": "VwCYVApIC-Jj"
      }
    },
    {
      "cell_type": "code",
      "source": [
        "X={\"NAGA\",\"AKHIL\",\"mani\",\"mani\",\"naga\"}\n",
        "print(x)"
      ],
      "metadata": {
        "id": "L-mbbczTDDTg",
        "outputId": "debd2111-c22a-4fba-8aaa-6950e9e89bb4",
        "colab": {
          "base_uri": "https://localhost:8080/"
        }
      },
      "execution_count": null,
      "outputs": [
        {
          "output_type": "stream",
          "name": "stdout",
          "text": [
            "('naga', 'akhil', 'mani')\n"
          ]
        }
      ]
    },
    {
      "cell_type": "markdown",
      "source": [],
      "metadata": {
        "id": "Ezmr4P_wC9rX"
      }
    },
    {
      "cell_type": "code",
      "source": [
        "x={\"naga\",\"sai\",\"mouli\"}\n",
        "print(type(x))"
      ],
      "metadata": {
        "id": "DSXRGOcfEFut",
        "outputId": "9fd1e8ff-4092-451a-dcd9-50f7bb17f243",
        "colab": {
          "base_uri": "https://localhost:8080/"
        }
      },
      "execution_count": null,
      "outputs": [
        {
          "output_type": "stream",
          "name": "stdout",
          "text": [
            "<class 'set'>\n"
          ]
        }
      ]
    },
    {
      "cell_type": "code",
      "source": [
        "X={\"NAGA\",\"AKHIL\",\"mani\",\"mani\",\"naga\"}\n",
        "print(len(x))"
      ],
      "metadata": {
        "id": "ChmiQb9GETcR",
        "outputId": "054d5c1d-a9e2-40d7-e005-80872b54afb1",
        "colab": {
          "base_uri": "https://localhost:8080/"
        }
      },
      "execution_count": null,
      "outputs": [
        {
          "output_type": "stream",
          "name": "stdout",
          "text": [
            "3\n"
          ]
        }
      ]
    },
    {
      "cell_type": "markdown",
      "source": [
        "Access sets"
      ],
      "metadata": {
        "id": "-v68vZiUEdTR"
      }
    },
    {
      "cell_type": "code",
      "source": [
        "x={\"naga\",\"sai\",\"mouli\"}\n",
        "for i in x:\n",
        "  print(i)"
      ],
      "metadata": {
        "id": "LrsfO1PSFOPf",
        "outputId": "84b9fa22-5dcf-4162-ccfc-3d0953c69ca9",
        "colab": {
          "base_uri": "https://localhost:8080/"
        }
      },
      "execution_count": null,
      "outputs": [
        {
          "output_type": "stream",
          "name": "stdout",
          "text": [
            "naga\n",
            "mouli\n",
            "sai\n"
          ]
        }
      ]
    },
    {
      "cell_type": "code",
      "source": [
        "x={\"naga\",\"sai\",\"mouli\"}\n",
        "print(\"naga\" in x)\n",
        "print(\"sai\" not in x)"
      ],
      "metadata": {
        "id": "zY9krOVQFmRv",
        "outputId": "802a5142-75bf-4bb3-8d02-8d436a0c2ec1",
        "colab": {
          "base_uri": "https://localhost:8080/"
        }
      },
      "execution_count": null,
      "outputs": [
        {
          "output_type": "stream",
          "name": "stdout",
          "text": [
            "True\n",
            "False\n"
          ]
        }
      ]
    },
    {
      "cell_type": "markdown",
      "source": [
        "Add sets"
      ],
      "metadata": {
        "id": "GSzotvfGGw6e"
      }
    },
    {
      "cell_type": "code",
      "source": [
        "x={\"naga\",\"sai\",\"mouli\"}\n",
        "x.add(\"akhil\")\n",
        "print(x)"
      ],
      "metadata": {
        "id": "1Kh-G6p1Gzwe",
        "outputId": "455c6c3b-a6e2-4455-dc55-89a66ecbfbe9",
        "colab": {
          "base_uri": "https://localhost:8080/"
        }
      },
      "execution_count": null,
      "outputs": [
        {
          "output_type": "stream",
          "name": "stdout",
          "text": [
            "{'naga', 'mouli', 'sai', 'akhil'}\n"
          ]
        }
      ]
    },
    {
      "cell_type": "code",
      "source": [
        "x={\"naga\",\"sai\",\"mouli\"}\n",
        "y={\"akhil\",\"ram\"}\n",
        "x.update(y)\n",
        "print(x)"
      ],
      "metadata": {
        "id": "Y2I6HX-LGwbb",
        "outputId": "122e40ba-cc0d-4afb-d3a1-a97a4d95f803",
        "colab": {
          "base_uri": "https://localhost:8080/"
        }
      },
      "execution_count": null,
      "outputs": [
        {
          "output_type": "stream",
          "name": "stdout",
          "text": [
            "{'naga', 'ram', 'mouli', 'sai', 'akhil'}\n"
          ]
        }
      ]
    },
    {
      "cell_type": "code",
      "source": [
        "x={\"naga\",\"sai\",\"mouli\"}\n",
        "y=[\"akhil\",\"ram\"]\n",
        "x.update(y)\n",
        "print(x)"
      ],
      "metadata": {
        "id": "tdOz3vJuHc38",
        "outputId": "13c17b9a-68c7-4186-95da-f314f3e08a14",
        "colab": {
          "base_uri": "https://localhost:8080/"
        }
      },
      "execution_count": null,
      "outputs": [
        {
          "output_type": "stream",
          "name": "stdout",
          "text": [
            "{'naga', 'ram', 'mouli', 'sai', 'akhil'}\n"
          ]
        }
      ]
    },
    {
      "cell_type": "markdown",
      "source": [
        "Remove sets"
      ],
      "metadata": {
        "id": "xiR28wXuJJnM"
      }
    },
    {
      "cell_type": "code",
      "source": [
        "x={\"naga\",\"sai\",\"mouli\",\"akhil\",\"mani\"}\n",
        "x.remove(\"sai\")\n",
        "print(x)\n",
        "x.discard(\"mouli\")\n",
        "print(x)\n",
        "x.pop()\n",
        "print(x)\n",
        "x.clear()\n",
        "print(x)\n"
      ],
      "metadata": {
        "id": "OMC5znZpJPPU",
        "outputId": "82bff0f9-8285-4816-9f1b-5f2a06526dfa",
        "colab": {
          "base_uri": "https://localhost:8080/"
        }
      },
      "execution_count": null,
      "outputs": [
        {
          "output_type": "stream",
          "name": "stdout",
          "text": [
            "{'naga', 'mouli', 'mani', 'akhil'}\n",
            "{'naga', 'mani', 'akhil'}\n",
            "{'mani', 'akhil'}\n",
            "set()\n"
          ]
        }
      ]
    },
    {
      "cell_type": "markdown",
      "source": [
        "loop"
      ],
      "metadata": {
        "id": "qScemtx0MlXP"
      }
    },
    {
      "cell_type": "code",
      "source": [
        "x={\"naga\",\"sai\",\"mouli\"}\n",
        "for i in x:\n",
        "  print(i)"
      ],
      "metadata": {
        "id": "kO8J6sI4Mmrh",
        "outputId": "8135fa7c-8776-4f2b-d78a-281193ea1e54",
        "colab": {
          "base_uri": "https://localhost:8080/"
        }
      },
      "execution_count": null,
      "outputs": [
        {
          "output_type": "stream",
          "name": "stdout",
          "text": [
            "naga\n",
            "mouli\n",
            "sai\n"
          ]
        }
      ]
    },
    {
      "cell_type": "markdown",
      "source": [
        "join sets"
      ],
      "metadata": {
        "id": "JVZ6wBXEa9uc"
      }
    },
    {
      "cell_type": "code",
      "source": [
        "x={\"naga\",\"sai\",\"mouli\"}\n",
        "y={\"tillu\",\"akhil\",\"mani\"}\n",
        "z={1,2,3,4,}\n",
        "c={\"a\",\"b\",\"z\",\"x\"}\n",
        "m=x.union(y,z,c)\n",
        "print(m)\n",
        "m=x|y|z|c\n",
        "print(m)"
      ],
      "metadata": {
        "colab": {
          "base_uri": "https://localhost:8080/"
        },
        "id": "JmuVx168bGc-",
        "outputId": "51f96faa-0223-4bac-fdf5-4e632c0a05ce"
      },
      "execution_count": null,
      "outputs": [
        {
          "output_type": "stream",
          "name": "stdout",
          "text": [
            "{'mouli', 1, 2, 3, 4, 'mani', 'akhil', 'naga', 'x', 'z', 'sai', 'tillu', 'a', 'b'}\n",
            "{'mouli', 1, 2, 3, 4, 'mani', 'akhil', 'naga', 'x', 'z', 'sai', 'tillu', 'a', 'b'}\n"
          ]
        }
      ]
    },
    {
      "cell_type": "code",
      "source": [
        "x={\"naga\",\"sai\",\"mouli\"}\n",
        "z=(1,2,3,4,)\n",
        "m=x.union(z)\n",
        "print(m)\n"
      ],
      "metadata": {
        "colab": {
          "base_uri": "https://localhost:8080/"
        },
        "id": "e__ngCQ-cHZc",
        "outputId": "74903826-ba2c-402e-c321-d185ef24ca6a"
      },
      "execution_count": null,
      "outputs": [
        {
          "output_type": "stream",
          "name": "stdout",
          "text": [
            "{'mouli', 1, 2, 3, 4, 'naga', 'sai'}\n"
          ]
        }
      ]
    },
    {
      "cell_type": "code",
      "source": [
        "x={\"naga\",\"sai\",\"mouli\"}\n",
        "z=(1,2,3,4,)\n",
        "x.update(z)\n",
        "print(x)"
      ],
      "metadata": {
        "colab": {
          "base_uri": "https://localhost:8080/"
        },
        "id": "H6er9lC_g0gB",
        "outputId": "546dbd1c-616b-490b-8b02-f44634ccd3cf"
      },
      "execution_count": null,
      "outputs": [
        {
          "output_type": "stream",
          "name": "stdout",
          "text": [
            "{'mouli', 1, 2, 3, 4, 'naga', 'sai'}\n"
          ]
        }
      ]
    },
    {
      "cell_type": "code",
      "source": [
        "x={\"naga\",\"sai\",\"mouli\"}\n",
        "y={\"tillu\",\"naga\",\"akhil\"}\n",
        "z=x.intersection(y)\n",
        "print(z)\n",
        "x.intersection_update(y)\n",
        "print(x)"
      ],
      "metadata": {
        "colab": {
          "base_uri": "https://localhost:8080/"
        },
        "id": "S0Wtwt8jg_e8",
        "outputId": "743ade34-df61-4a0f-f86a-7734d48ccb27"
      },
      "execution_count": null,
      "outputs": [
        {
          "output_type": "stream",
          "name": "stdout",
          "text": [
            "{'naga'}\n",
            "{'naga'}\n",
            "set()\n"
          ]
        }
      ]
    },
    {
      "cell_type": "code",
      "source": [
        "x={\"naga\",\"sai\",\"mouli\"}\n",
        "y={\"tillu\",\"naga\",\"akhil\"}\n",
        "z=x.difference(y)\n",
        "print(z)\n",
        "z=x-y\n",
        "print(z)"
      ],
      "metadata": {
        "id": "3RHC4Mybivef",
        "outputId": "edfe6382-5f87-419f-dd19-1b63a2e20df1",
        "colab": {
          "base_uri": "https://localhost:8080/"
        }
      },
      "execution_count": null,
      "outputs": [
        {
          "output_type": "stream",
          "name": "stdout",
          "text": [
            "{'mouli', 'sai'}\n",
            "{'mouli', 'sai'}\n"
          ]
        }
      ]
    },
    {
      "cell_type": "code",
      "source": [
        "x={\"naga\",\"sai\",\"mouli\"}\n",
        "y={\"tillu\",\"naga\",\"akhil\"}\n",
        "z=x.symmetric_difference(y)\n",
        "print(z)\n",
        "z=x^y\n",
        "print(z)"
      ],
      "metadata": {
        "id": "EZdTHYKdjFor",
        "outputId": "2c9a15d2-2796-421f-cb17-40da4810345b",
        "colab": {
          "base_uri": "https://localhost:8080/"
        }
      },
      "execution_count": null,
      "outputs": [
        {
          "output_type": "stream",
          "name": "stdout",
          "text": [
            "{'mouli', 'sai', 'tillu', 'akhil'}\n",
            "{'mouli', 'sai', 'tillu', 'akhil'}\n"
          ]
        }
      ]
    },
    {
      "cell_type": "code",
      "source": [
        "x={\"naga\",\"sai\",\"mouli\"}\n",
        "y={\"tillu\",\"naga\",\"akhil\"}\n",
        "x.symmetric_difference_update(y)\n",
        "print(x)"
      ],
      "metadata": {
        "id": "krvCrXBKjbXN",
        "outputId": "c1895fb6-6947-4172-8079-d68a6eeb8cd0",
        "colab": {
          "base_uri": "https://localhost:8080/"
        }
      },
      "execution_count": null,
      "outputs": [
        {
          "output_type": "stream",
          "name": "stdout",
          "text": [
            "{'akhil', 'sai', 'tillu', 'mouli'}\n"
          ]
        }
      ]
    },
    {
      "cell_type": "markdown",
      "source": [
        "DICTIONAL"
      ],
      "metadata": {
        "id": "Us7rEKB-B_1s"
      }
    },
    {
      "cell_type": "code",
      "source": [
        "bike={\n",
        "    \"brand\":\"royal enfield\",\n",
        "    \"model\":\"GT 650\",\n",
        "    \"year\":2021\n",
        "}\n",
        "x=bike[\"model\"]\n",
        "print(x)"
      ],
      "metadata": {
        "id": "C55_-sozCGe8",
        "outputId": "771f7df7-7262-49af-8d8d-9615111dcb17",
        "colab": {
          "base_uri": "https://localhost:8080/"
        }
      },
      "execution_count": 3,
      "outputs": [
        {
          "output_type": "stream",
          "name": "stdout",
          "text": [
            "GT 650\n"
          ]
        }
      ]
    },
    {
      "cell_type": "code",
      "source": [
        "bike={\n",
        "    \"brand\":\"royal enfield\",\n",
        "    \"model\":\"GT 650\",\n",
        "    \"year\":2021\n",
        "}\n",
        "x=bike.keys()\n",
        "bike[\"colour\"]=\"silver\"\n",
        "print(x)\n",
        "x=bike[\"colour\"]\n",
        "print(x)\n"
      ],
      "metadata": {
        "id": "sIoVUE8SEbXs",
        "outputId": "270e5291-d201-4d7c-9ad8-13b66a2edfd0",
        "colab": {
          "base_uri": "https://localhost:8080/"
        }
      },
      "execution_count": 5,
      "outputs": [
        {
          "output_type": "stream",
          "name": "stdout",
          "text": [
            "dict_keys(['brand', 'model', 'year', 'colour'])\n",
            "silver\n"
          ]
        }
      ]
    },
    {
      "cell_type": "code",
      "source": [
        "bike={\n",
        "    \"brand\":\"royal enfield\",\n",
        "    \"model\":\"GT 650\",\n",
        "    \"year\":2021\n",
        "}\n",
        "x=bike.values()\n",
        "bike[\"year\"]=2023\n",
        "print(x)"
      ],
      "metadata": {
        "id": "Bz2WY_2pF_ZG",
        "outputId": "95e61643-e38e-4441-9b13-57228345575a",
        "colab": {
          "base_uri": "https://localhost:8080/"
        }
      },
      "execution_count": 6,
      "outputs": [
        {
          "output_type": "stream",
          "name": "stdout",
          "text": [
            "dict_values(['royal enfield', 'GT 650', 2023])\n"
          ]
        }
      ]
    },
    {
      "cell_type": "code",
      "source": [
        "bike={\n",
        "    \"brand\":\"royal enfield\",\n",
        "    \"model\":\"classic 350\",\n",
        "    \"year\":2018\n",
        "}\n",
        "x=bike.items()\n",
        "bike[\"year\"]=2024\n",
        "print(x)\n"
      ],
      "metadata": {
        "id": "OKorkH3bGOQY",
        "outputId": "486a6c92-acce-4141-8c06-4a3b159c3ea9",
        "colab": {
          "base_uri": "https://localhost:8080/"
        }
      },
      "execution_count": 7,
      "outputs": [
        {
          "output_type": "stream",
          "name": "stdout",
          "text": [
            "dict_items([('brand', 'royal enfield'), ('model', 'classic 350'), ('year', 2024)])\n"
          ]
        }
      ]
    },
    {
      "cell_type": "code",
      "source": [
        "bike={\n",
        "    \"brand\":\"royal enfield\",\n",
        "    \"model\":\"classic 350\",\n",
        "    \"year\":2018\n",
        "}\n",
        "if \"year\" in bike:\n",
        "  print(\"yes\")"
      ],
      "metadata": {
        "id": "AZ_x8ZFyIG1q",
        "outputId": "c3350e79-6330-479e-8b21-0aa351723261",
        "colab": {
          "base_uri": "https://localhost:8080/"
        }
      },
      "execution_count": 8,
      "outputs": [
        {
          "output_type": "stream",
          "name": "stdout",
          "text": [
            "yes\n"
          ]
        }
      ]
    },
    {
      "cell_type": "markdown",
      "source": [
        "change items"
      ],
      "metadata": {
        "id": "J7Jr27HcJYAV"
      }
    },
    {
      "cell_type": "code",
      "source": [
        "bike={\n",
        "    \"brand\":\"royal enfield\",\n",
        "    \"model\":\"classic 350\",\n",
        "    \"year\":2018\n",
        "}\n",
        "bike[\"model\"]=\"gt650\"\n",
        "print(bike)\n"
      ],
      "metadata": {
        "id": "Ch-WBHMKJac1",
        "outputId": "3a05455a-85f3-4764-eace-90f6d35e098f",
        "colab": {
          "base_uri": "https://localhost:8080/"
        }
      },
      "execution_count": 9,
      "outputs": [
        {
          "output_type": "stream",
          "name": "stdout",
          "text": [
            "{'brand': 'royal enfield', 'model': 'gt650', 'year': 2018}\n"
          ]
        }
      ]
    },
    {
      "cell_type": "code",
      "source": [
        "bike={\n",
        "    \"brand\":\"royal enfield\",\n",
        "    \"model\":\"classic 350\",\n",
        "    \"year\":2018\n",
        "}\n",
        "bike.update({\"year\":2023})\n",
        "print(bike)"
      ],
      "metadata": {
        "id": "2KJts--YJyjB",
        "outputId": "89b8c29f-fb27-4146-eff1-1de23a1b1f4d",
        "colab": {
          "base_uri": "https://localhost:8080/"
        }
      },
      "execution_count": 10,
      "outputs": [
        {
          "output_type": "stream",
          "name": "stdout",
          "text": [
            "{'brand': 'royal enfield', 'model': 'classic 350', 'year': 2023}\n"
          ]
        }
      ]
    },
    {
      "cell_type": "markdown",
      "source": [],
      "metadata": {
        "id": "oxKATFQoSO6n"
      }
    },
    {
      "cell_type": "markdown",
      "source": [
        "add items"
      ],
      "metadata": {
        "id": "xJgPmt7RJ-5k"
      }
    },
    {
      "cell_type": "code",
      "source": [
        "bike={\n",
        "    \"brand\":\"royal enfield\",\n",
        "    \"model\":\"classic 350\",\n",
        "    \"year\":2018\n",
        "}\n",
        "bike.update({\"colour\":\"black\"})\n",
        "print(bike)"
      ],
      "metadata": {
        "id": "s4uVZb5uKCNk",
        "outputId": "75c8309c-de85-441b-ffa5-2b5a1b5c053a",
        "colab": {
          "base_uri": "https://localhost:8080/"
        }
      },
      "execution_count": 11,
      "outputs": [
        {
          "output_type": "stream",
          "name": "stdout",
          "text": [
            "{'brand': 'royal enfield', 'model': 'classic 350', 'year': 2018, 'colour': 'black'}\n"
          ]
        }
      ]
    },
    {
      "cell_type": "markdown",
      "source": [
        "remove items"
      ],
      "metadata": {
        "id": "UdyVM5qFKY2N"
      }
    },
    {
      "cell_type": "code",
      "source": [
        "bike={\n",
        "    \"brand\":\"royal enfield\",\n",
        "    \"model\":\"classic 350\",\n",
        "    \"year\":2018\n",
        "}\n",
        "bike.pop(\"model\")\n",
        "print(bike)"
      ],
      "metadata": {
        "id": "ZV4Y8F-TKbAx",
        "outputId": "14060c42-4c2e-4f3b-a67a-81d3b7a23b77",
        "colab": {
          "base_uri": "https://localhost:8080/"
        }
      },
      "execution_count": 12,
      "outputs": [
        {
          "output_type": "stream",
          "name": "stdout",
          "text": [
            "{'brand': 'royal enfield', 'year': 2018}\n"
          ]
        }
      ]
    },
    {
      "cell_type": "code",
      "source": [
        "bike={\n",
        "    \"brand\":\"royal enfield\",\n",
        "    \"model\":\"classic 350\",\n",
        "    \"year\":2018\n",
        "}\n",
        "bike.popitem()\n",
        "print(bike)"
      ],
      "metadata": {
        "id": "rb2kzPJWKyQy",
        "outputId": "411047ce-6167-4ffa-c396-841b2b38cad1",
        "colab": {
          "base_uri": "https://localhost:8080/"
        }
      },
      "execution_count": 13,
      "outputs": [
        {
          "output_type": "stream",
          "name": "stdout",
          "text": [
            "{'brand': 'royal enfield', 'model': 'classic 350'}\n"
          ]
        }
      ]
    },
    {
      "cell_type": "code",
      "source": [
        "bike={\n",
        "    \"brand\":\"royal enfield\",\n",
        "    \"model\":\"classic 350\",\n",
        "    \"year\":2018\n",
        "}\n",
        "del bike[\"brand\"]\n",
        "print(bike)"
      ],
      "metadata": {
        "id": "rW7O2A65K4LI",
        "outputId": "fe3b4d69-f61e-4b8c-8b29-dc9714ddf626",
        "colab": {
          "base_uri": "https://localhost:8080/"
        }
      },
      "execution_count": 14,
      "outputs": [
        {
          "output_type": "stream",
          "name": "stdout",
          "text": [
            "{'model': 'classic 350', 'year': 2018}\n"
          ]
        }
      ]
    },
    {
      "cell_type": "code",
      "source": [
        "bike={\n",
        "    \"brand\":\"royal enfield\",\n",
        "    \"model\":\"classic 350\",\n",
        "    \"year\":2018\n",
        "}\n",
        "bike.clear()\n",
        "print(bike)"
      ],
      "metadata": {
        "id": "iMhOuDQpLB_y",
        "outputId": "351fe724-291d-44cc-906a-3ec43566f651",
        "colab": {
          "base_uri": "https://localhost:8080/"
        }
      },
      "execution_count": 15,
      "outputs": [
        {
          "output_type": "stream",
          "name": "stdout",
          "text": [
            "{}\n"
          ]
        }
      ]
    },
    {
      "cell_type": "code",
      "source": [
        "bike={\n",
        "    \"brand\":\"royal enfield\",\n",
        "    \"model\":\"classic 350\",\n",
        "    \"year\":2018\n",
        "}\n",
        "for i in bike:\n",
        "  print(i)"
      ],
      "metadata": {
        "id": "z4yn_0ToLTXI",
        "outputId": "212aa88e-adeb-4852-ff81-88f93e5b9fd0",
        "colab": {
          "base_uri": "https://localhost:8080/"
        }
      },
      "execution_count": 16,
      "outputs": [
        {
          "output_type": "stream",
          "name": "stdout",
          "text": [
            "brand\n",
            "model\n",
            "year\n"
          ]
        }
      ]
    },
    {
      "cell_type": "code",
      "source": [
        "bike={\n",
        "    \"brand\":\"royal enfield\",\n",
        "    \"model\":\"classic 350\",\n",
        "    \"year\":2018\n",
        "}\n",
        "for i in bike.keys():\n",
        "  print(i)"
      ],
      "metadata": {
        "id": "8DzvlukqLlUs",
        "outputId": "435421af-3bd2-4f3f-e068-74c31d92d6d0",
        "colab": {
          "base_uri": "https://localhost:8080/"
        }
      },
      "execution_count": 17,
      "outputs": [
        {
          "output_type": "stream",
          "name": "stdout",
          "text": [
            "brand\n",
            "model\n",
            "year\n"
          ]
        }
      ]
    },
    {
      "cell_type": "code",
      "source": [
        "bike={\n",
        "    \"brand\":\"royal enfield\",\n",
        "    \"model\":\"classic 350\",\n",
        "    \"year\":2018\n",
        "}\n",
        "for i in bike.values():\n",
        "  print(i)"
      ],
      "metadata": {
        "id": "HvPz_kHKLx17",
        "outputId": "edee8b0b-6b74-42a6-aa3d-36775f4dcf80",
        "colab": {
          "base_uri": "https://localhost:8080/"
        }
      },
      "execution_count": 18,
      "outputs": [
        {
          "output_type": "stream",
          "name": "stdout",
          "text": [
            "royal enfield\n",
            "classic 350\n",
            "2018\n"
          ]
        }
      ]
    },
    {
      "cell_type": "code",
      "source": [
        "bike={\n",
        "    \"brand\":\"royal enfield\",\n",
        "    \"model\":\"classic 350\",\n",
        "    \"year\":2018\n",
        "}\n",
        "for i in bike.items():\n",
        "  print(i)"
      ],
      "metadata": {
        "id": "SwkVBZ7iL7lW",
        "outputId": "c747e4d3-60f4-45c3-83f5-916b88df63a5",
        "colab": {
          "base_uri": "https://localhost:8080/"
        }
      },
      "execution_count": 19,
      "outputs": [
        {
          "output_type": "stream",
          "name": "stdout",
          "text": [
            "('brand', 'royal enfield')\n",
            "('model', 'classic 350')\n",
            "('year', 2018)\n"
          ]
        }
      ]
    },
    {
      "cell_type": "code",
      "source": [
        "bike={\n",
        "    \"brand\":\"royal enfield\",\n",
        "    \"model\":\"classic 350\",\n",
        "    \"year\":2018\n",
        "}\n",
        "mybike=bike.copy()\n",
        "print(mybike)"
      ],
      "metadata": {
        "id": "lQexW2KHMZCx",
        "outputId": "162a9b71-25fe-401a-efe6-c68e6dc0a9ef",
        "colab": {
          "base_uri": "https://localhost:8080/"
        }
      },
      "execution_count": 20,
      "outputs": [
        {
          "output_type": "stream",
          "name": "stdout",
          "text": [
            "{'brand': 'royal enfield', 'model': 'classic 350', 'year': 2018}\n"
          ]
        }
      ]
    },
    {
      "cell_type": "code",
      "source": [
        "bike={\n",
        "    \"brand\":\"royal enfield\",\n",
        "    \"model\":\"classic 350\",\n",
        "    \"year\":2018\n",
        "}\n",
        "mybike=dict(bike)\n",
        "print(mybike)"
      ],
      "metadata": {
        "id": "oI_7w3LpMYzU",
        "outputId": "71ace6bc-edf6-4fb4-c2d4-aa93ed3dea18",
        "colab": {
          "base_uri": "https://localhost:8080/"
        }
      },
      "execution_count": 21,
      "outputs": [
        {
          "output_type": "stream",
          "name": "stdout",
          "text": [
            "{'brand': 'royal enfield', 'model': 'classic 350', 'year': 2018}\n"
          ]
        }
      ]
    },
    {
      "cell_type": "markdown",
      "source": [
        "nested loop"
      ],
      "metadata": {
        "id": "j05wC1pvQ5de"
      }
    },
    {
      "cell_type": "code",
      "source": [
        "store= {\n",
        "    \"bike1\":{\n",
        "        \"name\":\"royal enfiled\",\n",
        "        \"model\":\"gt650\",\n",
        "        \"year\":2023\n",
        "    },\n",
        "    \"bike2\":{\n",
        "        \"name\":\"pulsar\",\n",
        "        \"model\":\"220\",\n",
        "        \"year\":2015\n",
        "    },\n",
        "    \"bike3\":{\n",
        "        \"name\":\"ktm\",\n",
        "        \"model\":\"duke\",\n",
        "        \"year\":2018\n",
        "\n",
        "    }\n",
        "\n",
        "}\n",
        "print(store)\n"
      ],
      "metadata": {
        "id": "W6UTuweGQ8kK",
        "outputId": "8d8c11f5-1ab5-41d2-9a94-39415cd52904",
        "colab": {
          "base_uri": "https://localhost:8080/"
        }
      },
      "execution_count": 22,
      "outputs": [
        {
          "output_type": "stream",
          "name": "stdout",
          "text": [
            "{'bike1': {'name': 'royal enfiled', 'model': 'gt650', 'year': 2023}, 'bike2': {'name': 'pulsar', 'model': '220', 'year': 2015}, 'bike3': {'name': 'ktm', 'model': 'duke', 'year': 2018}}\n"
          ]
        }
      ]
    },
    {
      "cell_type": "code",
      "source": [
        "car1={\n",
        "    \"name\":\"bmw\",\n",
        "    \"cost\":\"18cr\",\n",
        "    \"year\":2023\n",
        "}\n",
        "car2={\n",
        "    \"name\":\"suzuki\",\n",
        "    \"cost\":\"5l\",\n",
        "    \"year\":2012\n",
        "}\n",
        "car3={\n",
        "    \"name\":\"audi\",\n",
        "    \"cost\":\"20cr\",\n",
        "    \"year\":2022\n",
        "}\n",
        "store={\n",
        "    \"car1\":car1,\n",
        "    \"car2\":car2,\n",
        "    \"car3\":car3\n",
        "}\n",
        "print(store)\n"
      ],
      "metadata": {
        "id": "0-GrlNznTQJz",
        "outputId": "08dc983f-cf39-4b43-e8c8-a690913a8628",
        "colab": {
          "base_uri": "https://localhost:8080/"
        }
      },
      "execution_count": 23,
      "outputs": [
        {
          "output_type": "stream",
          "name": "stdout",
          "text": [
            "{'car1': {'name': 'bmw', 'cost': '18cr', 'year': 2023}, 'car2': {'name': 'suzuki', 'cost': '5l', 'year': 2012}, 'car3': {'name': 'audi', 'cost': '20cr', 'year': 2022}}\n"
          ]
        }
      ]
    },
    {
      "cell_type": "code",
      "source": [
        "car1={\n",
        "    \"name\":\"bmw\",\n",
        "    \"cost\":\"18cr\",\n",
        "    \"year\":2023\n",
        "}\n",
        "car2={\n",
        "    \"name\":\"suzuki\",\n",
        "    \"cost\":\"5l\",\n",
        "    \"year\":2012\n",
        "}\n",
        "car3={\n",
        "    \"name\":\"audi\",\n",
        "    \"cost\":\"20cr\",\n",
        "    \"year\":2022\n",
        "}\n",
        "store={\n",
        "    \"car1\":car1,\n",
        "    \"car2\":car2,\n",
        "    \"car3\":car3\n",
        "}\n",
        "print(store[\"car3\"][\"name\"])"
      ],
      "metadata": {
        "id": "O2WH4CDXWP0g",
        "outputId": "5e60bb5c-1d5d-4019-c670-6d5e9bb8c6b8",
        "colab": {
          "base_uri": "https://localhost:8080/"
        }
      },
      "execution_count": 24,
      "outputs": [
        {
          "output_type": "stream",
          "name": "stdout",
          "text": [
            "audi\n"
          ]
        }
      ]
    },
    {
      "cell_type": "code",
      "source": [
        "car1={\n",
        "    \"name\":\"bmw\",\n",
        "    \"cost\":\"18cr\",\n",
        "    \"year\":2023\n",
        "}\n",
        "car2={\n",
        "    \"name\":\"suzuki\",\n",
        "    \"cost\":\"5l\",\n",
        "    \"year\":2012\n",
        "}\n",
        "car3={\n",
        "    \"name\":\"audi\",\n",
        "    \"cost\":\"20cr\",\n",
        "    \"year\":2022\n",
        "}\n",
        "store={\n",
        "    \"car1\":car1,\n",
        "    \"car2\":car2,\n",
        "    \"car3\":car3\n",
        "}\n",
        "for key,value in store.items():\n",
        "  print(keys\":\" ,value)"
      ],
      "metadata": {
        "id": "FTNBvNJsXH3G",
        "outputId": "5400a43b-9490-4777-c5be-3a2afe85b98a",
        "colab": {
          "base_uri": "https://localhost:8080/",
          "height": 106
        }
      },
      "execution_count": 30,
      "outputs": [
        {
          "output_type": "error",
          "ename": "SyntaxError",
          "evalue": "invalid syntax (ipython-input-1055120378.py, line 22)",
          "traceback": [
            "\u001b[0;36m  File \u001b[0;32m\"/tmp/ipython-input-1055120378.py\"\u001b[0;36m, line \u001b[0;32m22\u001b[0m\n\u001b[0;31m    print(keys\":\" ,value)\u001b[0m\n\u001b[0m              ^\u001b[0m\n\u001b[0;31mSyntaxError\u001b[0m\u001b[0;31m:\u001b[0m invalid syntax\n"
          ]
        }
      ]
    },
    {
      "cell_type": "markdown",
      "source": [],
      "metadata": {
        "id": "mNte0xABCaJO"
      }
    }
  ]
}