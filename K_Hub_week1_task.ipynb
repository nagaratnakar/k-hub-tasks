{
  "nbformat": 4,
  "nbformat_minor": 0,
  "metadata": {
    "colab": {
      "provenance": [],
      "authorship_tag": "ABX9TyNRMU2F8HJvfFHyBp5KD0DE",
      "include_colab_link": true
    },
    "kernelspec": {
      "name": "python3",
      "display_name": "Python 3"
    },
    "language_info": {
      "name": "python"
    }
  },
  "cells": [
    {
      "cell_type": "markdown",
      "metadata": {
        "id": "view-in-github",
        "colab_type": "text"
      },
      "source": [
        "<a href=\"https://colab.research.google.com/github/nagaratnakar/k-hub-tasks/blob/main/K_Hub_week1_task.ipynb\" target=\"_parent\"><img src=\"https://colab.research.google.com/assets/colab-badge.svg\" alt=\"Open In Colab\"/></a>"
      ]
    },
    {
      "cell_type": "markdown",
      "source": [],
      "metadata": {
        "id": "cP5Sg_qEIQE8"
      }
    },
    {
      "cell_type": "markdown",
      "source": [
        "tuple"
      ],
      "metadata": {
        "id": "Sr0mUoY0YFDr"
      }
    },
    {
      "cell_type": "code",
      "source": [
        "x=(\"naga\",\"mani\",\"sahitha\",\"roja\")\n",
        "print(type(x))"
      ],
      "metadata": {
        "id": "hG8LJGYaYHrY",
        "outputId": "d806f6dd-eb61-4aaa-c72f-f369fe0e59aa",
        "colab": {
          "base_uri": "https://localhost:8080/"
        }
      },
      "execution_count": 3,
      "outputs": [
        {
          "output_type": "stream",
          "name": "stdout",
          "text": [
            "<class 'tuple'>\n"
          ]
        }
      ]
    },
    {
      "cell_type": "markdown",
      "source": [
        "access tuple"
      ],
      "metadata": {
        "id": "fL8KbcByYgvu"
      }
    },
    {
      "cell_type": "code",
      "source": [
        "x=(\"naga\",\"mani\",\"sahitha\",\"roja\",\"akhil\")\n",
        "print(x[2])\n",
        "print(x[-5:-2])\n",
        "print(x[2:5])\n",
        "print(x[2:])\n",
        "print(x[:5])\n",
        "if \"naga\"in x:\n",
        "  print(\"yes\")"
      ],
      "metadata": {
        "id": "cY8O23RIYjPZ",
        "outputId": "6fbbb03f-bda5-47f0-926f-9d0aa091937c",
        "colab": {
          "base_uri": "https://localhost:8080/"
        }
      },
      "execution_count": 7,
      "outputs": [
        {
          "output_type": "stream",
          "name": "stdout",
          "text": [
            "sahitha\n",
            "('naga', 'mani', 'sahitha')\n",
            "('sahitha', 'roja', 'akhil')\n",
            "('sahitha', 'roja', 'akhil')\n",
            "('naga', 'mani', 'sahitha', 'roja', 'akhil')\n",
            "yes\n"
          ]
        }
      ]
    },
    {
      "cell_type": "markdown",
      "source": [
        "update tuple"
      ],
      "metadata": {
        "id": "LMSnpCUpebKL"
      }
    },
    {
      "cell_type": "code",
      "source": [
        "x=(\"naga\",\"roja\",\"akhil\")\n",
        "y=list(x)\n",
        "y[2]=\"mani\"\n",
        "x=tuple(y)\n",
        "print(x)"
      ],
      "metadata": {
        "id": "4LO6dWGNeeJa",
        "outputId": "c9165069-91fc-4fee-b1ea-16bd8720d756",
        "colab": {
          "base_uri": "https://localhost:8080/"
        }
      },
      "execution_count": 8,
      "outputs": [
        {
          "output_type": "stream",
          "name": "stdout",
          "text": [
            "('naga', 'roja', 'mani')\n"
          ]
        }
      ]
    },
    {
      "cell_type": "code",
      "source": [
        "x=(\"naga\",\"roja\",\"akhil\")\n",
        "y=list(x)\n",
        "y.append(\"mani\")\n",
        "x=tuple(y)\n",
        "print(x)"
      ],
      "metadata": {
        "id": "kWpXdCiNfiTj",
        "outputId": "81dc74e7-a6f6-484e-fd30-d222f9f2d67f",
        "colab": {
          "base_uri": "https://localhost:8080/"
        }
      },
      "execution_count": 9,
      "outputs": [
        {
          "output_type": "stream",
          "name": "stdout",
          "text": [
            "('naga', 'roja', 'akhil', 'mani')\n"
          ]
        }
      ]
    },
    {
      "cell_type": "code",
      "source": [
        "x=(\"naga\",\"roja\",\"akhil\")\n",
        "y=(\"mani\",)\n",
        "x+=y\n",
        "\n",
        "print(x)"
      ],
      "metadata": {
        "id": "_RhrQt4df7Mc",
        "outputId": "dc018b3b-51c9-41c6-c74b-e0011769b4bc",
        "colab": {
          "base_uri": "https://localhost:8080/"
        }
      },
      "execution_count": 12,
      "outputs": [
        {
          "output_type": "stream",
          "name": "stdout",
          "text": [
            "('naga', 'roja', 'akhil', 'mani')\n"
          ]
        }
      ]
    },
    {
      "cell_type": "code",
      "source": [
        "x=('naga', 'roja', 'akhil', 'mani')\n",
        "y=list(x)\n",
        "y.remove(\"naga\")\n",
        "x=tuple(y)\n",
        "print(x)"
      ],
      "metadata": {
        "id": "IfY4iBEQiSYE",
        "outputId": "54344c45-cf26-4714-e437-f23afceb5b07",
        "colab": {
          "base_uri": "https://localhost:8080/"
        }
      },
      "execution_count": 15,
      "outputs": [
        {
          "output_type": "stream",
          "name": "stdout",
          "text": [
            "('roja', 'akhil', 'mani')\n"
          ]
        }
      ]
    },
    {
      "cell_type": "code",
      "source": [
        "x=('naga', 'roja', 'akhil', 'mani')\n",
        "x=()\n",
        "print(x)"
      ],
      "metadata": {
        "id": "m_RrLFQHjQ9_",
        "outputId": "3110323e-3adc-480e-e4a9-b1aea96f8915",
        "colab": {
          "base_uri": "https://localhost:8080/"
        }
      },
      "execution_count": 18,
      "outputs": [
        {
          "output_type": "stream",
          "name": "stdout",
          "text": [
            "()\n"
          ]
        }
      ]
    },
    {
      "cell_type": "code",
      "source": [],
      "metadata": {
        "id": "e1U77uBDkPqG"
      },
      "execution_count": null,
      "outputs": []
    }
  ]
}